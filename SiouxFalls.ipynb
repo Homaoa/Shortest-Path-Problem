{
  "nbformat": 4,
  "nbformat_minor": 0,
  "metadata": {
    "colab": {
      "provenance": [],
      "collapsed_sections": [],
      "authorship_tag": "ABX9TyOlhy6FZHr/CZZj47oPba5+",
      "include_colab_link": true
    },
    "kernelspec": {
      "name": "python3",
      "display_name": "Python 3"
    },
    "language_info": {
      "name": "python"
    }
  },
  "cells": [
    {
      "cell_type": "markdown",
      "metadata": {
        "id": "view-in-github",
        "colab_type": "text"
      },
      "source": [
        "<a href=\"https://colab.research.google.com/github/Homaoa/Shortest-Path-Problem/blob/main/SiouxFalls.ipynb\" target=\"_parent\"><img src=\"https://colab.research.google.com/assets/colab-badge.svg\" alt=\"Open In Colab\"/></a>"
      ]
    },
    {
      "cell_type": "code",
      "source": [
        "from collections import deque\n",
        "\n",
        "INFINITY = float(\"inf\")"
      ],
      "metadata": {
        "id": "iKlY7aHXL1IB"
      },
      "execution_count": 2,
      "outputs": []
    },
    {
      "cell_type": "code",
      "execution_count": 3,
      "metadata": {
        "id": "mn3i88uk_SWg"
      },
      "outputs": [],
      "source": [
        "\n",
        "nodes = set (range(1,25))\n",
        "\n",
        "# A dictioanry in which the keys are nodes and the values are tupels that have the adjacent nodes and the flow time \n",
        "\n",
        "adjacency_list = {1:((2,6),(3,4)) , 2:((1,6),(6,5)) , 3:((1,4),(4,4),(12,4)) , 4:((3,4),(5,2),(11,6)) , 5:((4,2),(6,4),(9,5)) , \n",
        "                  6:((2,5),(5,4),(8,2)) , 7:((8,3),(18,2)) , 8:((6,2),(7,3),(9,10),(16,5)) , 9:((5,5),(8,10),(10,3)) ,  \n",
        "                  10:((9,3),(11,5),(15,6),(16,4),(17,8)) , 11:((4,6),(10,5),(12,6),(14,4)) , 12:((3,4),(11,6),(13,3)) ,\n",
        "                  13:((12,3),(24,4)) , 14:((11,4),(15,5),(23,4)) , 15:((10,6),(14,5),(19,3),(22,3)) , 16:((8,5),(10,4),(17,2),(18,3)) ,\n",
        "                  17:((10,8),(16,2),(19,2)) , 18:((7,2),(16,3),(20,4)) , 19:((15,3),(17,2),(20,4)) , 20:((18,4),(19,4),(21,6),(22,5)) , \n",
        "                  21:((20,6),(22,2),(24,3)) , 22:((15,3),(20,5),(21,2),(23,4)) , 23:((14,4),(22,4),(24,2)) , 24:((13,4),(21,3),(23,2))  \n",
        "                  }\n"
      ]
    },
    {
      "cell_type": "code",
      "source": [
        "def shortest_path(start_node, end_node):\n",
        "\n",
        "  # Defiening the nodes that haven't been visited. At first it is all the nodes.\n",
        "\n",
        "  unvisited_nodes = nodes.copy()\n",
        "\n",
        "  # Creating a dictionary of each node's distance from start node. \n",
        "  # This distance is 0 for the start note and infinite for the rest of the nodes\n",
        "\n",
        "  distance_from_start = {node: (0 if node == start_node else INFINITY) for node in nodes}\n",
        "\n",
        "  # previous node is a dictionary that stores the node before each node when the shortest path \n",
        "  #  to it was found. At first there is none.\n",
        "\n",
        "  previous_node = {node: None for node in nodes}\n",
        "\n",
        "  while unvisited_nodes:\n",
        "    \n",
        "    # Set current_node to the unvisited node with shortest distance calculated so far.\n",
        "    \n",
        "    current_node = min(unvisited_nodes, key=lambda node: distance_from_start[node])\n",
        "     \n",
        "    unvisited_nodes.remove(current_node)\n",
        "\n",
        "    # If current_node's distance is INFINITY, the remaining unvisited\n",
        "    # nodes are not connected to start_node, so we're done.\n",
        "\n",
        "    if distance_from_start[current_node] == INFINITY:\n",
        "      break\n",
        "\n",
        "    # For each neighbor of current_node, check whether the total distance\n",
        "    # to the neighbor via current_node is shorter than the distance we\n",
        "    # currently have for that node. If it is, update the neighbor's values\n",
        "    # for distance_from_start and previous_node.\n",
        "\n",
        "    for neighbor, distance in adjacency_list[current_node]:\n",
        "        new_path = distance_from_start[current_node] + distance\n",
        "        if new_path < distance_from_start[neighbor]:\n",
        "          distance_from_start[neighbor] = new_path\n",
        "          previous_node[neighbor] = current_node\n",
        "\n",
        "    if current_node == end_node:\n",
        "      break # we've reached the end node, so we're done\n",
        "\n",
        "  # To build the path, we iterate through the nodes from end_node back to start_node.\n",
        "\n",
        "  path = deque()\n",
        "  current_node = end_node\n",
        "  while previous_node[current_node] is not None:\n",
        "    path.appendleft(current_node)\n",
        "    current_node = previous_node[current_node]\n",
        "  path.appendleft(start_node)\n",
        "\n",
        "  return path, distance_from_start[end_node]\n",
        "\n"
      ],
      "metadata": {
        "id": "c5fdEHpPSvbB"
      },
      "execution_count": 12,
      "outputs": []
    },
    {
      "cell_type": "code",
      "source": [
        "shortest_path(1,24)"
      ],
      "metadata": {
        "colab": {
          "base_uri": "https://localhost:8080/"
        },
        "id": "1K-3iQVNZ7ej",
        "outputId": "22366e89-38c4-4e41-d164-a2d9a9d3b3e0"
      },
      "execution_count": 13,
      "outputs": [
        {
          "output_type": "execute_result",
          "data": {
            "text/plain": [
              "(deque([1, 3, 12, 13, 24]), 15)"
            ]
          },
          "metadata": {},
          "execution_count": 13
        }
      ]
    }
  ]
}